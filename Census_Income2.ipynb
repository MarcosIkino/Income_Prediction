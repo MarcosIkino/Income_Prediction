{
 "cells": [
  {
   "cell_type": "markdown",
   "id": "cf6d1920",
   "metadata": {},
   "source": [
    " \n",
    "# <font color='darkblue'>Income Prediction</font>\n",
    "## <font color='darkblue'>Author: Marcos Ikino</font>\n"
   ]
  },
  {
   "cell_type": "markdown",
   "id": "6d782e62",
   "metadata": {},
   "source": [
    "### Introduction\n",
    "This study aims to predict whether income exceeds $50K/yr, through the construction of a predictive model from the Census Income data set (http://archive.ics.uci.edu/ml/datasets/Census+Income), based on census data. \n",
    "\n",
    "The study is divided into 3 parts; part 1 will work on loading, cleaning, and transforming the data, so that in part 2 the exploratory data analysis through the visualization, until, in the last part, it is possible to build the predictive model for forecasting if income exceeds $50K/yr or not (income variable)."
   ]
  },
  {
   "cell_type": "markdown",
   "id": "4f7a94d0",
   "metadata": {},
   "source": [
    "#### Attributes Information:\n",
    "\n",
    "income: >50K, <=50K.\n",
    "\n",
    "age: continuous.\n",
    "\n",
    "workclass: Private, Self-emp-not-inc, Self-emp-inc, Federal-gov, Local-gov, State-gov, Without-pay, Never-worked.\n",
    "fnlwgt: continuous.\n",
    "\n",
    "education: Bachelors, Some-college, 11th, HS-grad, Prof-school, Assoc-acdm, Assoc-voc, 9th, 7th-8th, 12th, Masters, 1st-4th, 10th, Doctorate, 5th-6th, Preschool.\n",
    "\n",
    "education-num: continuous.\n",
    "\n",
    "marital-status: Married-civ-spouse, Divorced, Never-married, Separated, Widowed, Married-spouse-absent, Married-AF-spouse.\n",
    "\n",
    "occupation: Tech-support, Craft-repair, Other-service, Sales, Exec-managerial, Prof-specialty, Handlers-cleaners, Machine-op-inspct, Adm-clerical, Farming-fishing, Transport-moving, Priv-house-serv, Protective-serv, Armed-Forces.\n",
    "\n",
    "relationship: Wife, Own-child, Husband, Not-in-family, Other-relative, Unmarried.\n",
    "\n",
    "race: White, Asian-Pac-Islander, Amer-Indian-Eskimo, Other, Black.\n",
    "\n",
    "sex: Female, Male.\n",
    "\n",
    "capital-gain: continuous.\n",
    "\n",
    "capital-loss: continuous.\n",
    "\n",
    "hours-per-week: continuous.\n",
    "\n",
    "native-country: United-States, Cambodia, England, Puerto-Rico, Canada, Germany, Outlying-US(Guam-USVI-etc), India, Japan, Greece, South, China, Cuba, Iran, Honduras, Philippines, Italy, Poland, Jamaica, Vietnam, Mexico, Portugal, Ireland, France, Dominican-Republic, Laos, Ecuador, Taiwan, Haiti, Columbia, Hungary, Guatemala, Nicaragua, Scotland, Thailand, Yugoslavia, El-Salvador, Trinadad&Tobago, Peru, Hong, Holand-Netherlands."
   ]
  },
  {
   "cell_type": "markdown",
   "id": "1a6b0f3e",
   "metadata": {},
   "source": [
    "# "
   ]
  },
  {
   "cell_type": "markdown",
   "id": "7b7e472d",
   "metadata": {},
   "source": [
    "### Part 1 - Loading, cleaning, and transforming the data"
   ]
  },
  {
   "cell_type": "markdown",
   "id": "2bd609f0",
   "metadata": {},
   "source": [
    "#### 1.1 - Libraries import"
   ]
  },
  {
   "cell_type": "code",
   "execution_count": 1,
   "id": "intelligent-referral",
   "metadata": {},
   "outputs": [],
   "source": [
    "import pandas as pd\n",
    "import numpy as np\n",
    "import seaborn as sns\n",
    "import matplotlib.pyplot as plt\n",
    "from sklearn.tree import DecisionTreeClassifier\n",
    "from sklearn.ensemble import RandomForestClassifier\n",
    "from sklearn.linear_model import LogisticRegression\n",
    "from sklearn.model_selection import train_test_split\n",
    "from sklearn.model_selection import KFold\n",
    "from imblearn.under_sampling import RandomUnderSampler\n",
    "from sklearn.model_selection import cross_val_score\n",
    "from sklearn.metrics import accuracy_score\n",
    "from sklearn.metrics import roc_auc_score\n",
    "from sklearn.preprocessing import StandardScaler\n",
    "from sklearn.preprocessing import OneHotEncoder\n",
    "import warnings\n",
    "warnings.simplefilter(action='ignore', category=FutureWarning)"
   ]
  },
  {
   "cell_type": "markdown",
   "id": "37ce2b3d",
   "metadata": {},
   "source": [
    "#### 1.2 - Loading the data"
   ]
  },
  {
   "cell_type": "code",
   "execution_count": 2,
   "id": "finished-camel",
   "metadata": {},
   "outputs": [
    {
     "data": {
      "text/html": [
       "<div>\n",
       "<style scoped>\n",
       "    .dataframe tbody tr th:only-of-type {\n",
       "        vertical-align: middle;\n",
       "    }\n",
       "\n",
       "    .dataframe tbody tr th {\n",
       "        vertical-align: top;\n",
       "    }\n",
       "\n",
       "    .dataframe thead th {\n",
       "        text-align: right;\n",
       "    }\n",
       "</style>\n",
       "<table border=\"1\" class=\"dataframe\">\n",
       "  <thead>\n",
       "    <tr style=\"text-align: right;\">\n",
       "      <th></th>\n",
       "      <th>age</th>\n",
       "      <th>workclass</th>\n",
       "      <th>fnlwgt</th>\n",
       "      <th>education</th>\n",
       "      <th>education-num</th>\n",
       "      <th>marital-status</th>\n",
       "      <th>occupation</th>\n",
       "      <th>relationship</th>\n",
       "      <th>race</th>\n",
       "      <th>sex</th>\n",
       "      <th>capital-gain</th>\n",
       "      <th>capital-loss</th>\n",
       "      <th>hours-per-week</th>\n",
       "      <th>native-country</th>\n",
       "      <th>income</th>\n",
       "    </tr>\n",
       "  </thead>\n",
       "  <tbody>\n",
       "    <tr>\n",
       "      <th>0</th>\n",
       "      <td>39</td>\n",
       "      <td>State-gov</td>\n",
       "      <td>77516</td>\n",
       "      <td>Bachelors</td>\n",
       "      <td>13</td>\n",
       "      <td>Never-married</td>\n",
       "      <td>Adm-clerical</td>\n",
       "      <td>Not-in-family</td>\n",
       "      <td>White</td>\n",
       "      <td>Male</td>\n",
       "      <td>2174</td>\n",
       "      <td>0</td>\n",
       "      <td>40</td>\n",
       "      <td>United-States</td>\n",
       "      <td>&lt;=50K</td>\n",
       "    </tr>\n",
       "    <tr>\n",
       "      <th>1</th>\n",
       "      <td>50</td>\n",
       "      <td>Self-emp-not-inc</td>\n",
       "      <td>83311</td>\n",
       "      <td>Bachelors</td>\n",
       "      <td>13</td>\n",
       "      <td>Married-civ-spouse</td>\n",
       "      <td>Exec-managerial</td>\n",
       "      <td>Husband</td>\n",
       "      <td>White</td>\n",
       "      <td>Male</td>\n",
       "      <td>0</td>\n",
       "      <td>0</td>\n",
       "      <td>13</td>\n",
       "      <td>United-States</td>\n",
       "      <td>&lt;=50K</td>\n",
       "    </tr>\n",
       "    <tr>\n",
       "      <th>2</th>\n",
       "      <td>38</td>\n",
       "      <td>Private</td>\n",
       "      <td>215646</td>\n",
       "      <td>HS-grad</td>\n",
       "      <td>9</td>\n",
       "      <td>Divorced</td>\n",
       "      <td>Handlers-cleaners</td>\n",
       "      <td>Not-in-family</td>\n",
       "      <td>White</td>\n",
       "      <td>Male</td>\n",
       "      <td>0</td>\n",
       "      <td>0</td>\n",
       "      <td>40</td>\n",
       "      <td>United-States</td>\n",
       "      <td>&lt;=50K</td>\n",
       "    </tr>\n",
       "    <tr>\n",
       "      <th>3</th>\n",
       "      <td>53</td>\n",
       "      <td>Private</td>\n",
       "      <td>234721</td>\n",
       "      <td>11th</td>\n",
       "      <td>7</td>\n",
       "      <td>Married-civ-spouse</td>\n",
       "      <td>Handlers-cleaners</td>\n",
       "      <td>Husband</td>\n",
       "      <td>Black</td>\n",
       "      <td>Male</td>\n",
       "      <td>0</td>\n",
       "      <td>0</td>\n",
       "      <td>40</td>\n",
       "      <td>United-States</td>\n",
       "      <td>&lt;=50K</td>\n",
       "    </tr>\n",
       "    <tr>\n",
       "      <th>4</th>\n",
       "      <td>28</td>\n",
       "      <td>Private</td>\n",
       "      <td>338409</td>\n",
       "      <td>Bachelors</td>\n",
       "      <td>13</td>\n",
       "      <td>Married-civ-spouse</td>\n",
       "      <td>Prof-specialty</td>\n",
       "      <td>Wife</td>\n",
       "      <td>Black</td>\n",
       "      <td>Female</td>\n",
       "      <td>0</td>\n",
       "      <td>0</td>\n",
       "      <td>40</td>\n",
       "      <td>Cuba</td>\n",
       "      <td>&lt;=50K</td>\n",
       "    </tr>\n",
       "  </tbody>\n",
       "</table>\n",
       "</div>"
      ],
      "text/plain": [
       "   age          workclass  fnlwgt   education  education-num  \\\n",
       "0   39          State-gov   77516   Bachelors             13   \n",
       "1   50   Self-emp-not-inc   83311   Bachelors             13   \n",
       "2   38            Private  215646     HS-grad              9   \n",
       "3   53            Private  234721        11th              7   \n",
       "4   28            Private  338409   Bachelors             13   \n",
       "\n",
       "        marital-status          occupation    relationship    race      sex  \\\n",
       "0        Never-married        Adm-clerical   Not-in-family   White     Male   \n",
       "1   Married-civ-spouse     Exec-managerial         Husband   White     Male   \n",
       "2             Divorced   Handlers-cleaners   Not-in-family   White     Male   \n",
       "3   Married-civ-spouse   Handlers-cleaners         Husband   Black     Male   \n",
       "4   Married-civ-spouse      Prof-specialty            Wife   Black   Female   \n",
       "\n",
       "   capital-gain  capital-loss  hours-per-week  native-country  income  \n",
       "0          2174             0              40   United-States   <=50K  \n",
       "1             0             0              13   United-States   <=50K  \n",
       "2             0             0              40   United-States   <=50K  \n",
       "3             0             0              40   United-States   <=50K  \n",
       "4             0             0              40            Cuba   <=50K  "
      ]
     },
     "execution_count": 2,
     "metadata": {},
     "output_type": "execute_result"
    }
   ],
   "source": [
    "df = pd.read_csv('adult.data', names=['age', 'workclass', 'fnlwgt', 'education', 'education-num', 'marital-status', \n",
    "                                      'occupation', 'relationship', 'race', 'sex', 'capital-gain', 'capital-loss', \n",
    "                                      'hours-per-week', 'native-country', 'income'], na_values=('\\?', ''))\n",
    "df.head()"
   ]
  },
  {
   "cell_type": "code",
   "execution_count": 3,
   "id": "forty-climate",
   "metadata": {},
   "outputs": [
    {
     "name": "stdout",
     "output_type": "stream",
     "text": [
      "<class 'pandas.core.frame.DataFrame'>\n",
      "RangeIndex: 32561 entries, 0 to 32560\n",
      "Data columns (total 15 columns):\n",
      " #   Column          Non-Null Count  Dtype \n",
      "---  ------          --------------  ----- \n",
      " 0   age             32561 non-null  int64 \n",
      " 1   workclass       32561 non-null  object\n",
      " 2   fnlwgt          32561 non-null  int64 \n",
      " 3   education       32561 non-null  object\n",
      " 4   education-num   32561 non-null  int64 \n",
      " 5   marital-status  32561 non-null  object\n",
      " 6   occupation      32561 non-null  object\n",
      " 7   relationship    32561 non-null  object\n",
      " 8   race            32561 non-null  object\n",
      " 9   sex             32561 non-null  object\n",
      " 10  capital-gain    32561 non-null  int64 \n",
      " 11  capital-loss    32561 non-null  int64 \n",
      " 12  hours-per-week  32561 non-null  int64 \n",
      " 13  native-country  32561 non-null  object\n",
      " 14  income          32561 non-null  object\n",
      "dtypes: int64(6), object(9)\n",
      "memory usage: 3.7+ MB\n"
     ]
    }
   ],
   "source": [
    "df.info()"
   ]
  },
  {
   "cell_type": "markdown",
   "id": "76ea5941",
   "metadata": {},
   "source": [
    "#### 1.3 - Detecting and removing NaN values"
   ]
  },
  {
   "cell_type": "markdown",
   "id": "crucial-seattle",
   "metadata": {},
   "source": [
    "From the 'workclass', 'occupation' and 'native-country' columns, the special character (?) was transformed to a NaN value, and after that, it was opted to remove them to adjust better the data and avoid misclassification."
   ]
  },
  {
   "cell_type": "code",
   "execution_count": 4,
   "id": "subjective-beach",
   "metadata": {},
   "outputs": [],
   "source": [
    "df[['workclass', 'occupation', 'native-country']] = df[['workclass', 'occupation', 'native-country']] \\\n",
    ".apply(lambda x: x.replace('\\?', '', regex=True))\n",
    "\n",
    "df = df.replace(r'^\\s*$', np.NaN, regex=True)"
   ]
  },
  {
   "cell_type": "code",
   "execution_count": 5,
   "id": "initial-validation",
   "metadata": {},
   "outputs": [
    {
     "name": "stdout",
     "output_type": "stream",
     "text": [
      "<class 'pandas.core.frame.DataFrame'>\n",
      "RangeIndex: 32561 entries, 0 to 32560\n",
      "Data columns (total 15 columns):\n",
      " #   Column          Non-Null Count  Dtype \n",
      "---  ------          --------------  ----- \n",
      " 0   age             32561 non-null  int64 \n",
      " 1   workclass       30725 non-null  object\n",
      " 2   fnlwgt          32561 non-null  int64 \n",
      " 3   education       32561 non-null  object\n",
      " 4   education-num   32561 non-null  int64 \n",
      " 5   marital-status  32561 non-null  object\n",
      " 6   occupation      30718 non-null  object\n",
      " 7   relationship    32561 non-null  object\n",
      " 8   race            32561 non-null  object\n",
      " 9   sex             32561 non-null  object\n",
      " 10  capital-gain    32561 non-null  int64 \n",
      " 11  capital-loss    32561 non-null  int64 \n",
      " 12  hours-per-week  32561 non-null  int64 \n",
      " 13  native-country  31978 non-null  object\n",
      " 14  income          32561 non-null  object\n",
      "dtypes: int64(6), object(9)\n",
      "memory usage: 3.7+ MB\n"
     ]
    }
   ],
   "source": [
    "df.info()"
   ]
  },
  {
   "cell_type": "markdown",
   "id": "military-pulse",
   "metadata": {},
   "source": [
    "##### Removing the NA values"
   ]
  },
  {
   "cell_type": "code",
   "execution_count": 6,
   "id": "second-oxygen",
   "metadata": {},
   "outputs": [],
   "source": [
    "df = df.dropna()"
   ]
  },
  {
   "cell_type": "code",
   "execution_count": 7,
   "id": "fuzzy-charles",
   "metadata": {},
   "outputs": [
    {
     "data": {
      "text/plain": [
       "age               0\n",
       "workclass         0\n",
       "fnlwgt            0\n",
       "education         0\n",
       "education-num     0\n",
       "marital-status    0\n",
       "occupation        0\n",
       "relationship      0\n",
       "race              0\n",
       "sex               0\n",
       "capital-gain      0\n",
       "capital-loss      0\n",
       "hours-per-week    0\n",
       "native-country    0\n",
       "income            0\n",
       "dtype: int64"
      ]
     },
     "execution_count": 7,
     "metadata": {},
     "output_type": "execute_result"
    }
   ],
   "source": [
    "df.isna().sum()"
   ]
  },
  {
   "cell_type": "markdown",
   "id": "coordinated-telescope",
   "metadata": {},
   "source": [
    "#### 1.4 - Grouping parameters of categorical variables\n",
    "Grouping parameters of categorical variables with high levels of granularity, according to the similarity and characteristics between the parameters. Apart from this grouping procedure, specifically, the 'relationship' and 'native-country'variables will be removed (see 1.4.5 and 1.4.6 sections)."
   ]
  },
  {
   "cell_type": "markdown",
   "id": "6af52747",
   "metadata": {},
   "source": [
    "##### 1.4.1 - Workclass\n"
   ]
  },
  {
   "cell_type": "code",
   "execution_count": 8,
   "id": "b27569a0",
   "metadata": {},
   "outputs": [
    {
     "data": {
      "text/plain": [
       " Private             22286\n",
       " Self-emp-not-inc     2499\n",
       " Local-gov            2067\n",
       " State-gov            1279\n",
       " Self-emp-inc         1074\n",
       " Federal-gov           943\n",
       " Without-pay            14\n",
       "Name: workclass, dtype: int64"
      ]
     },
     "execution_count": 8,
     "metadata": {},
     "output_type": "execute_result"
    }
   ],
   "source": [
    "df['workclass'].value_counts()"
   ]
  },
  {
   "cell_type": "code",
   "execution_count": 9,
   "id": "executed-colon",
   "metadata": {},
   "outputs": [
    {
     "data": {
      "text/plain": [
       "Index([' Private', ' Self-emp-not-inc', ' Local-gov', ' State-gov',\n",
       "       ' Self-emp-inc', ' Federal-gov', ' Without-pay'],\n",
       "      dtype='object')"
      ]
     },
     "execution_count": 9,
     "metadata": {},
     "output_type": "execute_result"
    }
   ],
   "source": [
    "idx = df['workclass'].value_counts().index[:]\n",
    "idx"
   ]
  },
  {
   "cell_type": "code",
   "execution_count": 10,
   "id": "d6149a96",
   "metadata": {},
   "outputs": [],
   "source": [
    "lst1 = [2,3,5]\n",
    "lst2 = [6]\n",
    "\n",
    "df['workclass'] = np.where(df['workclass'].isin(idx[lst1]), 'Govern', df['workclass'])\n",
    "df['workclass'] = np.where(df['workclass'].isin(idx[lst2]), 'Private', df['workclass'])\n",
    "df.loc[df['workclass'].str.contains('Private'), 'workclass'] = 'Private'"
   ]
  },
  {
   "cell_type": "code",
   "execution_count": 11,
   "id": "reliable-parade",
   "metadata": {},
   "outputs": [
    {
     "data": {
      "text/plain": [
       "Private              22300\n",
       "Govern                4289\n",
       " Self-emp-not-inc     2499\n",
       " Self-emp-inc         1074\n",
       "Name: workclass, dtype: int64"
      ]
     },
     "execution_count": 11,
     "metadata": {},
     "output_type": "execute_result"
    }
   ],
   "source": [
    "df.workclass.value_counts()"
   ]
  },
  {
   "cell_type": "markdown",
   "id": "777a5810",
   "metadata": {},
   "source": [
    "##### 1.4.2 - Occupation\n"
   ]
  },
  {
   "cell_type": "code",
   "execution_count": 12,
   "id": "recreational-philippines",
   "metadata": {},
   "outputs": [
    {
     "data": {
      "text/plain": [
       " Prof-specialty       4038\n",
       " Craft-repair         4030\n",
       " Exec-managerial      3992\n",
       " Adm-clerical         3721\n",
       " Sales                3584\n",
       " Other-service        3212\n",
       " Machine-op-inspct    1966\n",
       " Transport-moving     1572\n",
       " Handlers-cleaners    1350\n",
       " Farming-fishing       989\n",
       " Tech-support          912\n",
       " Protective-serv       644\n",
       " Priv-house-serv       143\n",
       " Armed-Forces            9\n",
       "Name: occupation, dtype: int64"
      ]
     },
     "execution_count": 12,
     "metadata": {},
     "output_type": "execute_result"
    }
   ],
   "source": [
    "df.occupation.value_counts()"
   ]
  },
  {
   "cell_type": "code",
   "execution_count": 13,
   "id": "based-laundry",
   "metadata": {},
   "outputs": [],
   "source": [
    "df.loc[df['occupation'].str.contains('Armed-Forces'), 'occupation'] = 'Other-service'\n",
    "df.loc[df['occupation'].str.contains('Priv-house-serv'), 'occupation'] = 'Other-service'\n",
    "df.loc[df['occupation'].str.contains('Other-service'), 'occupation'] = 'Other-service'"
   ]
  },
  {
   "cell_type": "code",
   "execution_count": 14,
   "id": "c3036376",
   "metadata": {},
   "outputs": [
    {
     "data": {
      "text/plain": [
       " Prof-specialty       4038\n",
       " Craft-repair         4030\n",
       " Exec-managerial      3992\n",
       " Adm-clerical         3721\n",
       " Sales                3584\n",
       "Other-service         3364\n",
       " Machine-op-inspct    1966\n",
       " Transport-moving     1572\n",
       " Handlers-cleaners    1350\n",
       " Farming-fishing       989\n",
       " Tech-support          912\n",
       " Protective-serv       644\n",
       "Name: occupation, dtype: int64"
      ]
     },
     "execution_count": 14,
     "metadata": {},
     "output_type": "execute_result"
    }
   ],
   "source": [
    "df.occupation.value_counts()"
   ]
  },
  {
   "cell_type": "markdown",
   "id": "4acce708",
   "metadata": {},
   "source": [
    "##### 1.4.3 - Education"
   ]
  },
  {
   "cell_type": "code",
   "execution_count": 15,
   "id": "adjusted-anthony",
   "metadata": {},
   "outputs": [
    {
     "data": {
      "text/plain": [
       " HS-grad         9840\n",
       " Some-college    6678\n",
       " Bachelors       5044\n",
       " Masters         1627\n",
       " Assoc-voc       1307\n",
       " 11th            1048\n",
       " Assoc-acdm      1008\n",
       " 10th             820\n",
       " 7th-8th          557\n",
       " Prof-school      542\n",
       " 9th              455\n",
       " 12th             377\n",
       " Doctorate        375\n",
       " 5th-6th          288\n",
       " 1st-4th          151\n",
       " Preschool         45\n",
       "Name: education, dtype: int64"
      ]
     },
     "execution_count": 15,
     "metadata": {},
     "output_type": "execute_result"
    }
   ],
   "source": [
    "df.education.value_counts()"
   ]
  },
  {
   "cell_type": "code",
   "execution_count": 16,
   "id": "polar-sheep",
   "metadata": {},
   "outputs": [],
   "source": [
    "idx = df['education'].value_counts().index[:]\n",
    "lst = [5,7,8,10,11,13,14,15]\n",
    "lst2 = [4,6]\n",
    "\n",
    "df['education'] = np.where(df['education'].isin(idx[lst]), 'Elementary', df['education'])\n",
    "df['education'] = np.where(df['education'].isin(idx[lst2]), 'Assoc', df['education'])"
   ]
  },
  {
   "cell_type": "code",
   "execution_count": 17,
   "id": "responsible-behalf",
   "metadata": {},
   "outputs": [
    {
     "data": {
      "text/plain": [
       " HS-grad         9840\n",
       " Some-college    6678\n",
       " Bachelors       5044\n",
       "Elementary       3741\n",
       "Assoc            2315\n",
       " Masters         1627\n",
       " Prof-school      542\n",
       " Doctorate        375\n",
       "Name: education, dtype: int64"
      ]
     },
     "execution_count": 17,
     "metadata": {},
     "output_type": "execute_result"
    }
   ],
   "source": [
    "df.education.value_counts()"
   ]
  },
  {
   "cell_type": "markdown",
   "id": "05efe6a6",
   "metadata": {},
   "source": [
    "##### 1.4.4 - Marital-status"
   ]
  },
  {
   "cell_type": "code",
   "execution_count": 18,
   "id": "unlikely-furniture",
   "metadata": {},
   "outputs": [
    {
     "data": {
      "text/plain": [
       " Married-civ-spouse       14065\n",
       " Never-married             9726\n",
       " Divorced                  4214\n",
       " Separated                  939\n",
       " Widowed                    827\n",
       " Married-spouse-absent      370\n",
       " Married-AF-spouse           21\n",
       "Name: marital-status, dtype: int64"
      ]
     },
     "execution_count": 18,
     "metadata": {},
     "output_type": "execute_result"
    }
   ],
   "source": [
    "df['marital-status'].value_counts()"
   ]
  },
  {
   "cell_type": "code",
   "execution_count": 19,
   "id": "01d190e9",
   "metadata": {},
   "outputs": [],
   "source": [
    "idx = df['marital-status'].value_counts().index\n",
    "idx\n",
    "lst = [0,5,6]\n",
    "lst2 = [2]\n",
    "df['marital-status'] = np.where(df['marital-status'].isin(idx[lst]), 'Married', df['marital-status']) \n",
    "df['marital-status'] = np.where(df['marital-status'].isin(idx[lst2]), 'Separated', df['marital-status'])\n",
    "df.loc[df['marital-status'].str.contains('Separated'), 'marital-status'] = 'Separated'"
   ]
  },
  {
   "cell_type": "code",
   "execution_count": 20,
   "id": "43f14467",
   "metadata": {},
   "outputs": [
    {
     "data": {
      "text/plain": [
       "Married           14456\n",
       " Never-married     9726\n",
       "Separated          5153\n",
       " Widowed            827\n",
       "Name: marital-status, dtype: int64"
      ]
     },
     "execution_count": 20,
     "metadata": {},
     "output_type": "execute_result"
    }
   ],
   "source": [
    "df['marital-status'].value_counts()"
   ]
  },
  {
   "cell_type": "markdown",
   "id": "331d395b",
   "metadata": {},
   "source": [
    "##### 1.4.5 - Relationship\n",
    "Due to high correlation between the 'marital-status' and 'relationship' variables, the relationship variable will be removed"
   ]
  },
  {
   "cell_type": "code",
   "execution_count": 21,
   "id": "630994c8",
   "metadata": {},
   "outputs": [
    {
     "data": {
      "text/plain": [
       " Husband           12463\n",
       " Not-in-family      7726\n",
       " Own-child          4466\n",
       " Unmarried          3212\n",
       " Wife               1406\n",
       " Other-relative      889\n",
       "Name: relationship, dtype: int64"
      ]
     },
     "execution_count": 21,
     "metadata": {},
     "output_type": "execute_result"
    }
   ],
   "source": [
    "df['relationship'].value_counts()"
   ]
  },
  {
   "cell_type": "code",
   "execution_count": 22,
   "id": "bf465896",
   "metadata": {},
   "outputs": [],
   "source": [
    "del df['relationship']"
   ]
  },
  {
   "cell_type": "markdown",
   "id": "a047bd70",
   "metadata": {},
   "source": [
    "##### 1.4.6 - Native-country\n"
   ]
  },
  {
   "cell_type": "markdown",
   "id": "55604c3c",
   "metadata": {},
   "source": [
    "Creating a new variable named Continent by grouping each country into its respective regions and removing the native-country variable"
   ]
  },
  {
   "cell_type": "code",
   "execution_count": 23,
   "id": "brown-massachusetts",
   "metadata": {},
   "outputs": [
    {
     "name": "stderr",
     "output_type": "stream",
     "text": [
      "C:\\Users\\Marcos\\Anaconda3\\lib\\site-packages\\ipykernel_launcher.py:15: UserWarning: This pattern has match groups. To actually get the groups, use str.extract.\n",
      "  from ipykernel import kernelapp as app\n"
     ]
    }
   ],
   "source": [
    "dict = {'United-States': 'North_America', 'Mexico': 'North_America', 'Canada': 'North_America', \n",
    "        'Outlying-US(Guam-USVI-etc)': 'North_America', \n",
    "        'Philippines': 'Asia', 'India': 'Asia', 'South': 'Asia', 'China': 'Asia', 'Vietnam': 'Asia', 'Japan': 'Asia', \n",
    "        'Iran': 'Asia', 'Taiwan': 'Asia', 'Hong': 'Asia', 'Cambodia': 'Asia', 'Thailand': 'Asia', 'Laos': 'Asia', \n",
    "        'Germany': 'Europe', 'England': 'Europe', 'Italy': 'Europe', 'Poland': 'Europe', 'Portugal': 'Europe',\n",
    "        'Greece': 'Europe', 'France': 'Europe', 'Ireland': 'Europe', 'Yugoslavia': 'Europe', 'Hungary': 'Europe',\n",
    "        'Scotland': 'Europe', 'Holand-Netherlands': 'Europe',\n",
    "        'Puerto-Rico': 'Central_America', 'El-Salvador': 'Central_America', 'Cuba': 'Central_America', \n",
    "        'Jamaica': 'Central_America', 'Dominican-Republic': 'Central_America', 'Guatemala': 'Central_America', \n",
    "        'Haiti': 'Central_America', 'Nicaragua': 'Central_America', 'Trinadad&Tobago': 'Central_America', \n",
    "        'Honduras': 'Central_America', \n",
    "        'Columbia': 'South_America', 'Peru': 'South_America', 'Ecuador': 'South_America'}\n",
    "\n",
    "for k, v in dict.items():\n",
    "    df.loc[df['native-country'].str.contains(k), 'Continent'] = v\n",
    "    \n",
    "# Removing native-country variable\n",
    "del df['native-country']\n",
    "\n",
    "# Reordering columns positions\n",
    "df = df[['age', 'workclass', 'fnlwgt', 'education', 'education-num', 'marital-status', 'occupation', 'race', 'sex',\n",
    "         'capital-gain', 'capital-loss', 'hours-per-week', 'Continent', 'income']]\n"
   ]
  },
  {
   "cell_type": "code",
   "execution_count": 24,
   "id": "foreign-copper",
   "metadata": {},
   "outputs": [
    {
     "data": {
      "text/plain": [
       "North_America      28221\n",
       "Asia                 705\n",
       "Central_America      616\n",
       "Europe               493\n",
       "South_America        113\n",
       "Name: Continent, dtype: int64"
      ]
     },
     "execution_count": 24,
     "metadata": {},
     "output_type": "execute_result"
    }
   ],
   "source": [
    "df['Continent'].value_counts()"
   ]
  },
  {
   "cell_type": "markdown",
   "id": "6f09b824",
   "metadata": {},
   "source": [
    "#### 1.5 - Removing numerical variables\n",
    "Removing the 'capital-gain' and 'capital-loss' variables due to the high presence of null values on these variables. See histograms below."
   ]
  },
  {
   "cell_type": "code",
   "execution_count": 25,
   "id": "501678d9",
   "metadata": {
    "scrolled": true
   },
   "outputs": [
    {
     "data": {
      "text/plain": [
       "array([[<AxesSubplot:title={'center':'age'}>,\n",
       "        <AxesSubplot:title={'center':'fnlwgt'}>],\n",
       "       [<AxesSubplot:title={'center':'education-num'}>,\n",
       "        <AxesSubplot:title={'center':'capital-gain'}>],\n",
       "       [<AxesSubplot:title={'center':'capital-loss'}>,\n",
       "        <AxesSubplot:title={'center':'hours-per-week'}>]], dtype=object)"
      ]
     },
     "execution_count": 25,
     "metadata": {},
     "output_type": "execute_result"
    },
    {
     "data": {
      "image/png": "[encoded data removed]",
      "text/plain": [
       "<Figure size 720x720 with 6 Axes>"
      ]
     },
     "metadata": {
      "needs_background": "light"
     },
     "output_type": "display_data"
    }
   ],
   "source": [
    "df.hist(figsize=(10,10), bins=20)"
   ]
  },
  {
   "cell_type": "code",
   "execution_count": 26,
   "id": "b1f56c75",
   "metadata": {},
   "outputs": [],
   "source": [
    "del df['capital-gain']\n",
    "del df['capital-loss']"
   ]
  },
  {
   "cell_type": "markdown",
   "id": "71bd384b",
   "metadata": {},
   "source": [
    "#### 1.6 - Summarizing the data"
   ]
  },
  {
   "cell_type": "code",
   "execution_count": 27,
   "id": "f22f65b8",
   "metadata": {},
   "outputs": [
    {
     "data": {
      "text/html": [
       "<div>\n",
       "<style scoped>\n",
       "    .dataframe tbody tr th:only-of-type {\n",
       "        vertical-align: middle;\n",
       "    }\n",
       "\n",
       "    .dataframe tbody tr th {\n",
       "        vertical-align: top;\n",
       "    }\n",
       "\n",
       "    .dataframe thead th {\n",
       "        text-align: right;\n",
       "    }\n",
       "</style>\n",
       "<table border=\"1\" class=\"dataframe\">\n",
       "  <thead>\n",
       "    <tr style=\"text-align: right;\">\n",
       "      <th></th>\n",
       "      <th>age</th>\n",
       "      <th>workclass</th>\n",
       "      <th>fnlwgt</th>\n",
       "      <th>education</th>\n",
       "      <th>education-num</th>\n",
       "      <th>marital-status</th>\n",
       "      <th>occupation</th>\n",
       "      <th>race</th>\n",
       "      <th>sex</th>\n",
       "      <th>hours-per-week</th>\n",
       "      <th>Continent</th>\n",
       "      <th>income</th>\n",
       "    </tr>\n",
       "  </thead>\n",
       "  <tbody>\n",
       "    <tr>\n",
       "      <th>0</th>\n",
       "      <td>39</td>\n",
       "      <td>Govern</td>\n",
       "      <td>77516</td>\n",
       "      <td>Bachelors</td>\n",
       "      <td>13</td>\n",
       "      <td>Never-married</td>\n",
       "      <td>Adm-clerical</td>\n",
       "      <td>White</td>\n",
       "      <td>Male</td>\n",
       "      <td>40</td>\n",
       "      <td>North_America</td>\n",
       "      <td>&lt;=50K</td>\n",
       "    </tr>\n",
       "    <tr>\n",
       "      <th>1</th>\n",
       "      <td>50</td>\n",
       "      <td>Self-emp-not-inc</td>\n",
       "      <td>83311</td>\n",
       "      <td>Bachelors</td>\n",
       "      <td>13</td>\n",
       "      <td>Married</td>\n",
       "      <td>Exec-managerial</td>\n",
       "      <td>White</td>\n",
       "      <td>Male</td>\n",
       "      <td>13</td>\n",
       "      <td>North_America</td>\n",
       "      <td>&lt;=50K</td>\n",
       "    </tr>\n",
       "    <tr>\n",
       "      <th>2</th>\n",
       "      <td>38</td>\n",
       "      <td>Private</td>\n",
       "      <td>215646</td>\n",
       "      <td>HS-grad</td>\n",
       "      <td>9</td>\n",
       "      <td>Separated</td>\n",
       "      <td>Handlers-cleaners</td>\n",
       "      <td>White</td>\n",
       "      <td>Male</td>\n",
       "      <td>40</td>\n",
       "      <td>North_America</td>\n",
       "      <td>&lt;=50K</td>\n",
       "    </tr>\n",
       "    <tr>\n",
       "      <th>3</th>\n",
       "      <td>53</td>\n",
       "      <td>Private</td>\n",
       "      <td>234721</td>\n",
       "      <td>Elementary</td>\n",
       "      <td>7</td>\n",
       "      <td>Married</td>\n",
       "      <td>Handlers-cleaners</td>\n",
       "      <td>Black</td>\n",
       "      <td>Male</td>\n",
       "      <td>40</td>\n",
       "      <td>North_America</td>\n",
       "      <td>&lt;=50K</td>\n",
       "    </tr>\n",
       "    <tr>\n",
       "      <th>4</th>\n",
       "      <td>28</td>\n",
       "      <td>Private</td>\n",
       "      <td>338409</td>\n",
       "      <td>Bachelors</td>\n",
       "      <td>13</td>\n",
       "      <td>Married</td>\n",
       "      <td>Prof-specialty</td>\n",
       "      <td>Black</td>\n",
       "      <td>Female</td>\n",
       "      <td>40</td>\n",
       "      <td>Central_America</td>\n",
       "      <td>&lt;=50K</td>\n",
       "    </tr>\n",
       "  </tbody>\n",
       "</table>\n",
       "</div>"
      ],
      "text/plain": [
       "   age          workclass  fnlwgt   education  education-num  marital-status  \\\n",
       "0   39             Govern   77516   Bachelors             13   Never-married   \n",
       "1   50   Self-emp-not-inc   83311   Bachelors             13         Married   \n",
       "2   38            Private  215646     HS-grad              9       Separated   \n",
       "3   53            Private  234721  Elementary              7         Married   \n",
       "4   28            Private  338409   Bachelors             13         Married   \n",
       "\n",
       "           occupation    race      sex  hours-per-week        Continent  \\\n",
       "0        Adm-clerical   White     Male              40    North_America   \n",
       "1     Exec-managerial   White     Male              13    North_America   \n",
       "2   Handlers-cleaners   White     Male              40    North_America   \n",
       "3   Handlers-cleaners   Black     Male              40    North_America   \n",
       "4      Prof-specialty   Black   Female              40  Central_America   \n",
       "\n",
       "   income  \n",
       "0   <=50K  \n",
       "1   <=50K  \n",
       "2   <=50K  \n",
       "3   <=50K  \n",
       "4   <=50K  "
      ]
     },
     "execution_count": 27,
     "metadata": {},
     "output_type": "execute_result"
    }
   ],
   "source": [
    "df.head()"
   ]
  },
  {
   "cell_type": "markdown",
   "id": "6bd71e5a",
   "metadata": {},
   "source": [
    "# "
   ]
  },
  {
   "cell_type": "markdown",
   "id": "a8216949",
   "metadata": {},
   "source": [
    "### Part 2 - Exploratory Data Analysis\n"
   ]
  },
  {
   "cell_type": "markdown",
   "id": "6d8f1f23",
   "metadata": {},
   "source": [
    "This part will focus on the exploratory data analysis through visualization of the categorical variables compared to the income variable, as well as the relationship among the numerical variables."
   ]
  },
  {
   "cell_type": "markdown",
   "id": "d1296bc1",
   "metadata": {},
   "source": [
    "#### 2.1 - Categorical variables"
   ]
  },
  {
   "cell_type": "markdown",
   "id": "e94b6f3b",
   "metadata": {},
   "source": [
    "##### 2.1.1 - Income distribution"
   ]
  },
  {
   "cell_type": "code",
   "execution_count": 28,
   "id": "981d0974",
   "metadata": {},
   "outputs": [
    {
     "data": {
      "image/png": "[encoded data removed]",
      "text/plain": [
       "<Figure size 720x504 with 1 Axes>"
      ]
     },
     "metadata": {
      "needs_background": "light"
     },
     "output_type": "display_data"
    }
   ],
   "source": [
    "income_prop  = df['income'].value_counts(normalize=True)\n",
    "plt.figure(figsize=(10,7))\n",
    "sns.barplot(income_prop.index, income_prop.values, alpha=0.8)\n",
    "plt.title('Proportion by Income')\n",
    "plt.ylabel('Proportion', fontsize=12)\n",
    "plt.xlabel('Income', fontsize=12)\n",
    "plt.show()"
   ]
  },
  {
   "cell_type": "markdown",
   "id": "da69bf4e",
   "metadata": {},
   "source": [
    "##### 2.1.2 - Income vs Sex"
   ]
  },
  {
   "cell_type": "code",
   "execution_count": 29,
   "id": "585c5d10",
   "metadata": {},
   "outputs": [
    {
     "data": {
      "image/png": "[encoded data removed]",
      "text/plain": [
       "<Figure size 864x360 with 1 Axes>"
      ]
     },
     "metadata": {
      "needs_background": "light"
     },
     "output_type": "display_data"
    }
   ],
   "source": [
    "x,y = 'sex', 'income'\n",
    "\n",
    "(df\n",
    ".groupby(x)[y]\n",
    ".value_counts(normalize=True)\n",
    ".mul(100)\n",
    ".rename('Percent')\n",
    ".reset_index()\n",
    ".pipe((sns.catplot,'data'), x=x, y='Percent', hue=y, kind='bar', palette=[\"blue\", \"red\"])\n",
    ".set(title = 'Income percentual distribution by sex')\n",
    ".set_xticklabels(rotation = 0, fontsize = 11)\n",
    ".set_yticklabels(rotation = 0, fontsize = 9)\n",
    ".set_xlabels(fontsize = 14)\n",
    ".set_ylabels(fontsize = 14)\n",
    ".set(ylim=(0, 100))\n",
    ".fig.set_size_inches(12, 5)\n",
    ")"
   ]
  },
  {
   "cell_type": "markdown",
   "id": "4d4f96d1",
   "metadata": {},
   "source": [
    "##### 2.1.3 - Income vs Education"
   ]
  },
  {
   "cell_type": "code",
   "execution_count": 30,
   "id": "a03156c1",
   "metadata": {},
   "outputs": [
    {
     "data": {
      "image/png": "[encoded data removed]",
      "text/plain": [
       "<Figure size 864x360 with 1 Axes>"
      ]
     },
     "metadata": {
      "needs_background": "light"
     },
     "output_type": "display_data"
    }
   ],
   "source": [
    "x,y = 'education', 'income'\n",
    "\n",
    "(df\n",
    ".groupby(x)[y]\n",
    ".value_counts(normalize=True)\n",
    ".mul(100)\n",
    ".rename('Percent')\n",
    ".reset_index()\n",
    ".pipe((sns.catplot,'data'), x=x, y='Percent', hue=y, kind='bar', palette=[\"indianred\", \"olivedrab\"])\n",
    ".set(title = 'Income percentual distribution by education')\n",
    ".set_xticklabels(rotation = 0, fontsize = 8.5)\n",
    ".set_yticklabels(rotation = 0, fontsize = 9)\n",
    ".set_xlabels(fontsize = 14)\n",
    ".set_ylabels(fontsize = 14)\n",
    ".set(ylim=(0, 100))\n",
    ".fig.set_size_inches(12, 5)\n",
    ")"
   ]
  },
  {
   "cell_type": "markdown",
   "id": "fa4c1e5b",
   "metadata": {},
   "source": [
    "##### 2.1.4 - Income vs Stratified Age"
   ]
  },
  {
   "cell_type": "code",
   "execution_count": 31,
   "id": "cc5913d5",
   "metadata": {},
   "outputs": [
    {
     "data": {
      "image/png": "[encoded data removed]",
      "text/plain": [
       "<Figure size 864x360 with 1 Axes>"
      ]
     },
     "metadata": {
      "needs_background": "light"
     },
     "output_type": "display_data"
    }
   ],
   "source": [
    "df['strat_age'] = pd.cut(df['age'], [17,30,42,53,63,72,82,90], \n",
    "                         labels=[\"17-30\", \"31-42\", \"43-53\", \"54-63\", \"64-72\", \"73-82\", \"83-90\"],\n",
    "                        )\n",
    "\n",
    "x,y = 'strat_age', 'income'\n",
    "\n",
    "(df\n",
    ".groupby(x)[y]\n",
    ".value_counts(normalize=True)\n",
    ".mul(100)\n",
    ".rename('Percent')\n",
    ".reset_index()\n",
    ".pipe((sns.catplot,'data'), x=x, y='Percent', hue=y, kind='bar', palette=[\"magenta\", \"maroon\"])\n",
    ".set(title = 'Income percentual distribution by stratified age')\n",
    ".set_xticklabels(rotation = 0, fontsize = 9)\n",
    ".set_yticklabels(rotation = 0, fontsize = 9)\n",
    ".set_xlabels(fontsize = 14)\n",
    ".set_ylabels(fontsize = 14)\n",
    ".set(ylim=(0, 100))\n",
    ".fig.set_size_inches(12, 5)\n",
    ")\n",
    "\n",
    "# Removing strat_age variable to return the dataframe to original form\n",
    "del df['strat_age']\n"
   ]
  },
  {
   "cell_type": "markdown",
   "id": "de555a93",
   "metadata": {},
   "source": [
    "##### 2.1.5 - Income vs Marital-Status"
   ]
  },
  {
   "cell_type": "code",
   "execution_count": 32,
   "id": "f3c6a49d",
   "metadata": {},
   "outputs": [
    {
     "data": {
      "image/png": "[encoded data removed]",
      "text/plain": [
       "<Figure size 864x360 with 1 Axes>"
      ]
     },
     "metadata": {
      "needs_background": "light"
     },
     "output_type": "display_data"
    }
   ],
   "source": [
    "x,y = 'marital-status', 'income'\n",
    "\n",
    "(df\n",
    ".groupby(x)[y]\n",
    ".value_counts(normalize=True)\n",
    ".mul(100)\n",
    ".rename('Percent')\n",
    ".reset_index()\n",
    ".pipe((sns.catplot,'data'), x=x, y='Percent', hue=y, kind='bar', palette=[\"yellowgreen\", \"blue\"])\n",
    ".set(title = 'Income percentual distribution by marital-status')\n",
    ".set_xticklabels(rotation = 0, fontsize = 7.9)\n",
    ".set_yticklabels(rotation = 0, fontsize = 9)\n",
    ".set_xlabels(fontsize = 14)\n",
    ".set_ylabels(fontsize = 14)\n",
    ".set(ylim=(0, 100))\n",
    ".fig.set_size_inches(12, 5)\n",
    ")"
   ]
  },
  {
   "cell_type": "markdown",
   "id": "b8918f8b",
   "metadata": {},
   "source": [
    "##### 2.1.6 - Income vs Continent"
   ]
  },
  {
   "cell_type": "code",
   "execution_count": 33,
   "id": "00a6d5f0",
   "metadata": {},
   "outputs": [
    {
     "data": {
      "image/png": "[encoded data removed]",
      "text/plain": [
       "<Figure size 864x360 with 1 Axes>"
      ]
     },
     "metadata": {
      "needs_background": "light"
     },
     "output_type": "display_data"
    }
   ],
   "source": [
    "x,y = 'Continent', 'income'\n",
    "\n",
    "(df\n",
    ".groupby(x)[y]\n",
    ".value_counts(normalize=True)\n",
    ".mul(100)\n",
    ".rename('Percent')\n",
    ".reset_index()\n",
    ".pipe((sns.catplot,'data'), x=x, y='Percent', hue=y, kind='bar', palette=[\"hotpink\", \"dodgerblue\"])\n",
    ".set(title = 'Income percentual distribution by Continent')\n",
    ".set_xticklabels(rotation = 0, fontsize = 11)\n",
    ".set_yticklabels(rotation = 0, fontsize = 9)\n",
    ".set_xlabels(fontsize = 14)\n",
    ".set_ylabels(fontsize = 14)\n",
    ".set(ylim=(0, 100))\n",
    ".fig.set_size_inches(12, 5)\n",
    ")"
   ]
  },
  {
   "cell_type": "markdown",
   "id": "e7d31d8d",
   "metadata": {},
   "source": [
    "##### 2.1.7 - Income vs Race"
   ]
  },
  {
   "cell_type": "code",
   "execution_count": 34,
   "id": "1be90608",
   "metadata": {},
   "outputs": [
    {
     "data": {
      "image/png": "[encoded data removed]",
      "text/plain": [
       "<Figure size 864x360 with 1 Axes>"
      ]
     },
     "metadata": {
      "needs_background": "light"
     },
     "output_type": "display_data"
    }
   ],
   "source": [
    "x,y = 'race', 'income'\n",
    "\n",
    "(df\n",
    ".groupby(x)[y]\n",
    ".value_counts(normalize=True)\n",
    ".mul(100)\n",
    ".rename('Percent')\n",
    ".reset_index()\n",
    ".pipe((sns.catplot,'data'), x=x, y='Percent', hue=y, kind='bar', palette=[\"darkmagenta\", \"springgreen\"])\n",
    ".set(title = 'Income percentual distribution by race')\n",
    ".set_xticklabels(rotation = 0, fontsize = 10)\n",
    ".set_yticklabels(rotation = 0, fontsize = 9)\n",
    ".set_xlabels(fontsize = 14)\n",
    ".set_ylabels(fontsize = 14)\n",
    ".set(ylim=(0, 100))\n",
    ".fig.set_size_inches(12, 5)\n",
    ")"
   ]
  },
  {
   "cell_type": "markdown",
   "id": "983cd20d",
   "metadata": {},
   "source": [
    "##### 2.1.8 - Income vs Occupation"
   ]
  },
  {
   "cell_type": "code",
   "execution_count": 35,
   "id": "18024364",
   "metadata": {},
   "outputs": [
    {
     "data": {
      "image/png": "[encoded data removed]",
      "text/plain": [
       "<Figure size 864x360 with 1 Axes>"
      ]
     },
     "metadata": {
      "needs_background": "light"
     },
     "output_type": "display_data"
    }
   ],
   "source": [
    "x,y = 'occupation', 'income'\n",
    "\n",
    "(df\n",
    ".groupby(x)[y]\n",
    ".value_counts(normalize=True)\n",
    ".mul(100)\n",
    ".rename('Percent')\n",
    ".reset_index()\n",
    ".pipe((sns.catplot,'data'), x=x, y='Percent', hue=y, kind='bar', palette=[\"red\", \"green\"])\n",
    ".set(title = 'Income percentual distribution by occupation')\n",
    ".set_xticklabels(rotation = 60, fontsize = 10)\n",
    ".set_yticklabels(rotation = 0, fontsize = 9)\n",
    ".set_xlabels(fontsize = 14)\n",
    ".set_ylabels(fontsize = 14)\n",
    ".set(ylim=(0, 100))\n",
    ".fig.set_size_inches(12, 5)\n",
    ")"
   ]
  },
  {
   "cell_type": "markdown",
   "id": "9f2162a0",
   "metadata": {},
   "source": [
    "##### 2.1.9 - Income vs Work Class"
   ]
  },
  {
   "cell_type": "code",
   "execution_count": 36,
   "id": "d42b0812",
   "metadata": {},
   "outputs": [
    {
     "data": {
      "image/png": "[encoded data removed]",
      "text/plain": [
       "<Figure size 864x360 with 1 Axes>"
      ]
     },
     "metadata": {
      "needs_background": "light"
     },
     "output_type": "display_data"
    }
   ],
   "source": [
    "x,y = 'workclass', 'income'\n",
    "\n",
    "(df\n",
    ".groupby(x)[y]\n",
    ".value_counts(normalize=True)\n",
    ".mul(100)\n",
    ".rename('Percent')\n",
    ".reset_index()\n",
    ".pipe((sns.catplot,'data'), x=x, y='Percent', hue=y, kind='bar', palette=[\"aqua\", \"firebrick\"])\n",
    ".set(title = 'Income percentual distribution by workclass')\n",
    ".set_xticklabels(rotation = 0, fontsize = 10)\n",
    ".set_yticklabels(rotation = 0, fontsize = 9)\n",
    ".set_xlabels(fontsize = 14)\n",
    ".set_ylabels(fontsize = 14)\n",
    ".set(ylim=(0, 100))\n",
    ".fig.set_size_inches(12, 5)\n",
    ")"
   ]
  },
  {
   "cell_type": "markdown",
   "id": "b1820fc5",
   "metadata": {},
   "source": [
    "#### 2.2 - Correlation among numerical variables\n",
    "As verified on the correlation matrix below there is no colinearity between the numerical variables."
   ]
  },
  {
   "cell_type": "code",
   "execution_count": 37,
   "id": "1e093c1b",
   "metadata": {},
   "outputs": [
    {
     "data": {
      "text/html": [
       "<div>\n",
       "<style scoped>\n",
       "    .dataframe tbody tr th:only-of-type {\n",
       "        vertical-align: middle;\n",
       "    }\n",
       "\n",
       "    .dataframe tbody tr th {\n",
       "        vertical-align: top;\n",
       "    }\n",
       "\n",
       "    .dataframe thead th {\n",
       "        text-align: right;\n",
       "    }\n",
       "</style>\n",
       "<table border=\"1\" class=\"dataframe\">\n",
       "  <thead>\n",
       "    <tr style=\"text-align: right;\">\n",
       "      <th></th>\n",
       "      <th>age</th>\n",
       "      <th>fnlwgt</th>\n",
       "      <th>education-num</th>\n",
       "      <th>hours-per-week</th>\n",
       "    </tr>\n",
       "  </thead>\n",
       "  <tbody>\n",
       "    <tr>\n",
       "      <th>age</th>\n",
       "      <td>1.000000</td>\n",
       "      <td>-0.076511</td>\n",
       "      <td>0.043526</td>\n",
       "      <td>0.101599</td>\n",
       "    </tr>\n",
       "    <tr>\n",
       "      <th>fnlwgt</th>\n",
       "      <td>-0.076511</td>\n",
       "      <td>1.000000</td>\n",
       "      <td>-0.044992</td>\n",
       "      <td>-0.022886</td>\n",
       "    </tr>\n",
       "    <tr>\n",
       "      <th>education-num</th>\n",
       "      <td>0.043526</td>\n",
       "      <td>-0.044992</td>\n",
       "      <td>1.000000</td>\n",
       "      <td>0.152522</td>\n",
       "    </tr>\n",
       "    <tr>\n",
       "      <th>hours-per-week</th>\n",
       "      <td>0.101599</td>\n",
       "      <td>-0.022886</td>\n",
       "      <td>0.152522</td>\n",
       "      <td>1.000000</td>\n",
       "    </tr>\n",
       "  </tbody>\n",
       "</table>\n",
       "</div>"
      ],
      "text/plain": [
       "                     age    fnlwgt  education-num  hours-per-week\n",
       "age             1.000000 -0.076511       0.043526        0.101599\n",
       "fnlwgt         -0.076511  1.000000      -0.044992       -0.022886\n",
       "education-num   0.043526 -0.044992       1.000000        0.152522\n",
       "hours-per-week  0.101599 -0.022886       0.152522        1.000000"
      ]
     },
     "execution_count": 37,
     "metadata": {},
     "output_type": "execute_result"
    }
   ],
   "source": [
    "df.corr()"
   ]
  },
  {
   "cell_type": "markdown",
   "id": "1493e1a7",
   "metadata": {},
   "source": [
    "# "
   ]
  },
  {
   "cell_type": "markdown",
   "id": "67c8e1db",
   "metadata": {},
   "source": [
    "### Part 3 - Building the Machine Learning Model"
   ]
  },
  {
   "cell_type": "markdown",
   "id": "e6a5cb0c",
   "metadata": {},
   "source": [
    "In this last part will be formulated the machine learning model over the cleaned and transformed data performed in the previous parts, applying all the main processes involved, as splitting the data into train and test sets, one-hot encoding, standardization, cross-validation, and under-sampling to apply specifically on this study the Random Forest algorithm by the great results obtained of this model, taking in count the trade-off among performance and spent time. \n",
    "\n",
    "The chosen metric was the ROC AUC because summarizes the trade-off between the true-positive rate and the false-positive rate."
   ]
  },
  {
   "cell_type": "markdown",
   "id": "fdaf740d",
   "metadata": {},
   "source": [
    "#### 3.1 - Data Transformation\n",
    "Preparing the data to run on the Machine Learning model"
   ]
  },
  {
   "cell_type": "markdown",
   "id": "7453cc03-4812-49b7-886f-b407902b3deb",
   "metadata": {},
   "source": [
    "##### 3.1.1 - Transforming the income variable to binary format"
   ]
  },
  {
   "cell_type": "code",
   "execution_count": 38,
   "id": "89832f71",
   "metadata": {},
   "outputs": [],
   "source": [
    "df['income'] = df['income'].str.replace('<=50K', '0')\n",
    "df['income'] = df['income'].str.replace('>50K', '1')\n",
    "df['income'] = df['income'].astype('int64')"
   ]
  },
  {
   "cell_type": "code",
   "execution_count": 39,
   "id": "dccc6c2d",
   "metadata": {},
   "outputs": [
    {
     "data": {
      "text/html": [
       "<div>\n",
       "<style scoped>\n",
       "    .dataframe tbody tr th:only-of-type {\n",
       "        vertical-align: middle;\n",
       "    }\n",
       "\n",
       "    .dataframe tbody tr th {\n",
       "        vertical-align: top;\n",
       "    }\n",
       "\n",
       "    .dataframe thead th {\n",
       "        text-align: right;\n",
       "    }\n",
       "</style>\n",
       "<table border=\"1\" class=\"dataframe\">\n",
       "  <thead>\n",
       "    <tr style=\"text-align: right;\">\n",
       "      <th></th>\n",
       "      <th>age</th>\n",
       "      <th>workclass</th>\n",
       "      <th>fnlwgt</th>\n",
       "      <th>education</th>\n",
       "      <th>education-num</th>\n",
       "      <th>marital-status</th>\n",
       "      <th>occupation</th>\n",
       "      <th>race</th>\n",
       "      <th>sex</th>\n",
       "      <th>hours-per-week</th>\n",
       "      <th>Continent</th>\n",
       "      <th>income</th>\n",
       "    </tr>\n",
       "  </thead>\n",
       "  <tbody>\n",
       "    <tr>\n",
       "      <th>0</th>\n",
       "      <td>39</td>\n",
       "      <td>Govern</td>\n",
       "      <td>77516</td>\n",
       "      <td>Bachelors</td>\n",
       "      <td>13</td>\n",
       "      <td>Never-married</td>\n",
       "      <td>Adm-clerical</td>\n",
       "      <td>White</td>\n",
       "      <td>Male</td>\n",
       "      <td>40</td>\n",
       "      <td>North_America</td>\n",
       "      <td>0</td>\n",
       "    </tr>\n",
       "    <tr>\n",
       "      <th>1</th>\n",
       "      <td>50</td>\n",
       "      <td>Self-emp-not-inc</td>\n",
       "      <td>83311</td>\n",
       "      <td>Bachelors</td>\n",
       "      <td>13</td>\n",
       "      <td>Married</td>\n",
       "      <td>Exec-managerial</td>\n",
       "      <td>White</td>\n",
       "      <td>Male</td>\n",
       "      <td>13</td>\n",
       "      <td>North_America</td>\n",
       "      <td>0</td>\n",
       "    </tr>\n",
       "    <tr>\n",
       "      <th>2</th>\n",
       "      <td>38</td>\n",
       "      <td>Private</td>\n",
       "      <td>215646</td>\n",
       "      <td>HS-grad</td>\n",
       "      <td>9</td>\n",
       "      <td>Separated</td>\n",
       "      <td>Handlers-cleaners</td>\n",
       "      <td>White</td>\n",
       "      <td>Male</td>\n",
       "      <td>40</td>\n",
       "      <td>North_America</td>\n",
       "      <td>0</td>\n",
       "    </tr>\n",
       "    <tr>\n",
       "      <th>3</th>\n",
       "      <td>53</td>\n",
       "      <td>Private</td>\n",
       "      <td>234721</td>\n",
       "      <td>Elementary</td>\n",
       "      <td>7</td>\n",
       "      <td>Married</td>\n",
       "      <td>Handlers-cleaners</td>\n",
       "      <td>Black</td>\n",
       "      <td>Male</td>\n",
       "      <td>40</td>\n",
       "      <td>North_America</td>\n",
       "      <td>0</td>\n",
       "    </tr>\n",
       "    <tr>\n",
       "      <th>4</th>\n",
       "      <td>28</td>\n",
       "      <td>Private</td>\n",
       "      <td>338409</td>\n",
       "      <td>Bachelors</td>\n",
       "      <td>13</td>\n",
       "      <td>Married</td>\n",
       "      <td>Prof-specialty</td>\n",
       "      <td>Black</td>\n",
       "      <td>Female</td>\n",
       "      <td>40</td>\n",
       "      <td>Central_America</td>\n",
       "      <td>0</td>\n",
       "    </tr>\n",
       "  </tbody>\n",
       "</table>\n",
       "</div>"
      ],
      "text/plain": [
       "   age          workclass  fnlwgt   education  education-num  marital-status  \\\n",
       "0   39             Govern   77516   Bachelors             13   Never-married   \n",
       "1   50   Self-emp-not-inc   83311   Bachelors             13         Married   \n",
       "2   38            Private  215646     HS-grad              9       Separated   \n",
       "3   53            Private  234721  Elementary              7         Married   \n",
       "4   28            Private  338409   Bachelors             13         Married   \n",
       "\n",
       "           occupation    race      sex  hours-per-week        Continent  \\\n",
       "0        Adm-clerical   White     Male              40    North_America   \n",
       "1     Exec-managerial   White     Male              13    North_America   \n",
       "2   Handlers-cleaners   White     Male              40    North_America   \n",
       "3   Handlers-cleaners   Black     Male              40    North_America   \n",
       "4      Prof-specialty   Black   Female              40  Central_America   \n",
       "\n",
       "   income  \n",
       "0       0  \n",
       "1       0  \n",
       "2       0  \n",
       "3       0  \n",
       "4       0  "
      ]
     },
     "execution_count": 39,
     "metadata": {},
     "output_type": "execute_result"
    }
   ],
   "source": [
    "df.head()"
   ]
  },
  {
   "cell_type": "markdown",
   "id": "f039e815-0ce6-4ba0-9b95-eda0010dc683",
   "metadata": {},
   "source": [
    "##### 3.1.2 - Selecting the categorical variables to be transformed to dummies"
   ]
  },
  {
   "cell_type": "code",
   "execution_count": 40,
   "id": "b5cf4b01",
   "metadata": {},
   "outputs": [],
   "source": [
    "categ_lst = df.loc[:, df.dtypes== object].columns.to_list()"
   ]
  },
  {
   "cell_type": "code",
   "execution_count": 41,
   "id": "137beea8",
   "metadata": {},
   "outputs": [
    {
     "data": {
      "text/plain": [
       "['workclass',\n",
       " 'education',\n",
       " 'marital-status',\n",
       " 'occupation',\n",
       " 'race',\n",
       " 'sex',\n",
       " 'Continent']"
      ]
     },
     "execution_count": 41,
     "metadata": {},
     "output_type": "execute_result"
    }
   ],
   "source": [
    "categ_lst"
   ]
  },
  {
   "cell_type": "code",
   "execution_count": 42,
   "id": "9ed692bb-4053-4a32-b223-ff64dcaaa318",
   "metadata": {},
   "outputs": [
    {
     "data": {
      "text/plain": [
       "array([[0., 0., 1., ..., 1., 0., 0.],\n",
       "       [0., 1., 0., ..., 1., 0., 0.],\n",
       "       [0., 0., 0., ..., 1., 0., 0.],\n",
       "       ...,\n",
       "       [0., 0., 0., ..., 1., 0., 0.],\n",
       "       [0., 0., 0., ..., 1., 0., 0.],\n",
       "       [1., 0., 0., ..., 1., 0., 0.]])"
      ]
     },
     "execution_count": 42,
     "metadata": {},
     "output_type": "execute_result"
    }
   ],
   "source": [
    "enc = OneHotEncoder(handle_unknown='ignore')\n",
    "X1 = enc.fit_transform(df[categ_lst]).toarray()\n",
    "X1"
   ]
  },
  {
   "cell_type": "code",
   "execution_count": 43,
   "id": "f703c337-1683-4ee6-96dd-e6d6e80e6710",
   "metadata": {},
   "outputs": [
    {
     "data": {
      "text/plain": [
       "(30162, (30162, 41))"
      ]
     },
     "execution_count": 43,
     "metadata": {},
     "output_type": "execute_result"
    }
   ],
   "source": [
    "len(X1), X1.shape"
   ]
  },
  {
   "cell_type": "markdown",
   "id": "e7cf68a0-72a4-4575-b8d2-74dab4a12f27",
   "metadata": {},
   "source": [
    "##### 3.1.3 - Selecting the numerical variables for values standardization, except the output variable (income)"
   ]
  },
  {
   "cell_type": "code",
   "execution_count": 44,
   "id": "7f0e4d33-e27b-4ab8-9933-e5d12cd3805e",
   "metadata": {},
   "outputs": [
    {
     "data": {
      "text/plain": [
       "['age', 'fnlwgt', 'education-num', 'hours-per-week']"
      ]
     },
     "execution_count": 44,
     "metadata": {},
     "output_type": "execute_result"
    }
   ],
   "source": [
    "numer_lst = df.select_dtypes(include=np.number).columns.to_list()\n",
    "numer_lst = numer_lst[:4]\n",
    "numer_lst"
   ]
  },
  {
   "cell_type": "code",
   "execution_count": 45,
   "id": "b414c8d6-6329-4c17-a34a-16670a11194a",
   "metadata": {},
   "outputs": [
    {
     "data": {
      "text/plain": [
       "array([[ 0.04279571, -1.0627216 ,  1.12891838, -0.07773411],\n",
       "       [ 0.88028814, -1.00787131,  1.12891838, -2.3315307 ],\n",
       "       [-0.03333996,  0.24469349, -0.4397382 , -0.07773411],\n",
       "       ...,\n",
       "       [ 1.48937355, -0.3585745 , -0.4397382 , -0.07773411],\n",
       "       [-1.25151078,  0.11070545, -0.4397382 , -1.74721307],\n",
       "       [ 1.0325595 ,  0.92884082, -0.4397382 , -0.07773411]])"
      ]
     },
     "execution_count": 45,
     "metadata": {},
     "output_type": "execute_result"
    }
   ],
   "source": [
    "scaler = StandardScaler()\n",
    "X2 = scaler.fit_transform(df[numer_lst])\n",
    "X2"
   ]
  },
  {
   "cell_type": "code",
   "execution_count": 46,
   "id": "14d92571-a0f8-42f7-9b63-fbab524fad6e",
   "metadata": {},
   "outputs": [
    {
     "data": {
      "text/plain": [
       "(30162, (30162, 4))"
      ]
     },
     "execution_count": 46,
     "metadata": {},
     "output_type": "execute_result"
    }
   ],
   "source": [
    "len(X2), X2.shape"
   ]
  },
  {
   "cell_type": "markdown",
   "id": "36d08999",
   "metadata": {},
   "source": [
    "##### 3.1.4 - Concatenating the input variables and defining them as X"
   ]
  },
  {
   "cell_type": "code",
   "execution_count": 47,
   "id": "4e398a29-743d-4dfb-aeca-ecbf1a75f71c",
   "metadata": {},
   "outputs": [
    {
     "data": {
      "text/plain": [
       "array([[ 0.        ,  0.        ,  1.        , ..., -1.0627216 ,\n",
       "         1.12891838, -0.07773411],\n",
       "       [ 0.        ,  1.        ,  0.        , ..., -1.00787131,\n",
       "         1.12891838, -2.3315307 ],\n",
       "       [ 0.        ,  0.        ,  0.        , ...,  0.24469349,\n",
       "        -0.4397382 , -0.07773411],\n",
       "       ...,\n",
       "       [ 0.        ,  0.        ,  0.        , ..., -0.3585745 ,\n",
       "        -0.4397382 , -0.07773411],\n",
       "       [ 0.        ,  0.        ,  0.        , ...,  0.11070545,\n",
       "        -0.4397382 , -1.74721307],\n",
       "       [ 1.        ,  0.        ,  0.        , ...,  0.92884082,\n",
       "        -0.4397382 , -0.07773411]])"
      ]
     },
     "execution_count": 47,
     "metadata": {},
     "output_type": "execute_result"
    }
   ],
   "source": [
    "X = np.concatenate((X1, X2), axis=1)\n",
    "X"
   ]
  },
  {
   "cell_type": "code",
   "execution_count": 48,
   "id": "385a2ab5",
   "metadata": {},
   "outputs": [
    {
     "data": {
      "text/plain": [
       "(30162, (30162, 45))"
      ]
     },
     "execution_count": 48,
     "metadata": {},
     "output_type": "execute_result"
    }
   ],
   "source": [
    "len(X), X.shape"
   ]
  },
  {
   "cell_type": "markdown",
   "id": "7fd8f8f0",
   "metadata": {},
   "source": [
    "##### 3.1.5 - Transforming X to dataframe\n",
    "Transforming X to dataframe which will be used on the next steps to display on the Random Forest model, the most important variables"
   ]
  },
  {
   "cell_type": "code",
   "execution_count": 49,
   "id": "4c4bc254",
   "metadata": {},
   "outputs": [
    {
     "data": {
      "text/html": [
       "<div>\n",
       "<style scoped>\n",
       "    .dataframe tbody tr th:only-of-type {\n",
       "        vertical-align: middle;\n",
       "    }\n",
       "\n",
       "    .dataframe tbody tr th {\n",
       "        vertical-align: top;\n",
       "    }\n",
       "\n",
       "    .dataframe thead th {\n",
       "        text-align: right;\n",
       "    }\n",
       "</style>\n",
       "<table border=\"1\" class=\"dataframe\">\n",
       "  <thead>\n",
       "    <tr style=\"text-align: right;\">\n",
       "      <th></th>\n",
       "      <th>workclass_ Self-emp-inc</th>\n",
       "      <th>workclass_ Self-emp-not-inc</th>\n",
       "      <th>workclass_Govern</th>\n",
       "      <th>workclass_Private</th>\n",
       "      <th>education_ Bachelors</th>\n",
       "      <th>education_ Doctorate</th>\n",
       "      <th>education_ HS-grad</th>\n",
       "      <th>education_ Masters</th>\n",
       "      <th>education_ Prof-school</th>\n",
       "      <th>education_ Some-college</th>\n",
       "      <th>...</th>\n",
       "      <th>Continent_Asia</th>\n",
       "      <th>Continent_Central_America</th>\n",
       "      <th>Continent_Europe</th>\n",
       "      <th>Continent_North_America</th>\n",
       "      <th>Continent_South_America</th>\n",
       "      <th>Continent_nan</th>\n",
       "      <th>age</th>\n",
       "      <th>fnlwgt</th>\n",
       "      <th>education-num</th>\n",
       "      <th>hours-per-week</th>\n",
       "    </tr>\n",
       "  </thead>\n",
       "  <tbody>\n",
       "    <tr>\n",
       "      <th>0</th>\n",
       "      <td>0.0</td>\n",
       "      <td>0.0</td>\n",
       "      <td>1.0</td>\n",
       "      <td>0.0</td>\n",
       "      <td>1.0</td>\n",
       "      <td>0.0</td>\n",
       "      <td>0.0</td>\n",
       "      <td>0.0</td>\n",
       "      <td>0.0</td>\n",
       "      <td>0.0</td>\n",
       "      <td>...</td>\n",
       "      <td>0.0</td>\n",
       "      <td>0.0</td>\n",
       "      <td>0.0</td>\n",
       "      <td>1.0</td>\n",
       "      <td>0.0</td>\n",
       "      <td>0.0</td>\n",
       "      <td>0.042796</td>\n",
       "      <td>-1.062722</td>\n",
       "      <td>1.128918</td>\n",
       "      <td>-0.077734</td>\n",
       "    </tr>\n",
       "    <tr>\n",
       "      <th>1</th>\n",
       "      <td>0.0</td>\n",
       "      <td>1.0</td>\n",
       "      <td>0.0</td>\n",
       "      <td>0.0</td>\n",
       "      <td>1.0</td>\n",
       "      <td>0.0</td>\n",
       "      <td>0.0</td>\n",
       "      <td>0.0</td>\n",
       "      <td>0.0</td>\n",
       "      <td>0.0</td>\n",
       "      <td>...</td>\n",
       "      <td>0.0</td>\n",
       "      <td>0.0</td>\n",
       "      <td>0.0</td>\n",
       "      <td>1.0</td>\n",
       "      <td>0.0</td>\n",
       "      <td>0.0</td>\n",
       "      <td>0.880288</td>\n",
       "      <td>-1.007871</td>\n",
       "      <td>1.128918</td>\n",
       "      <td>-2.331531</td>\n",
       "    </tr>\n",
       "    <tr>\n",
       "      <th>2</th>\n",
       "      <td>0.0</td>\n",
       "      <td>0.0</td>\n",
       "      <td>0.0</td>\n",
       "      <td>1.0</td>\n",
       "      <td>0.0</td>\n",
       "      <td>0.0</td>\n",
       "      <td>1.0</td>\n",
       "      <td>0.0</td>\n",
       "      <td>0.0</td>\n",
       "      <td>0.0</td>\n",
       "      <td>...</td>\n",
       "      <td>0.0</td>\n",
       "      <td>0.0</td>\n",
       "      <td>0.0</td>\n",
       "      <td>1.0</td>\n",
       "      <td>0.0</td>\n",
       "      <td>0.0</td>\n",
       "      <td>-0.033340</td>\n",
       "      <td>0.244693</td>\n",
       "      <td>-0.439738</td>\n",
       "      <td>-0.077734</td>\n",
       "    </tr>\n",
       "    <tr>\n",
       "      <th>3</th>\n",
       "      <td>0.0</td>\n",
       "      <td>0.0</td>\n",
       "      <td>0.0</td>\n",
       "      <td>1.0</td>\n",
       "      <td>0.0</td>\n",
       "      <td>0.0</td>\n",
       "      <td>0.0</td>\n",
       "      <td>0.0</td>\n",
       "      <td>0.0</td>\n",
       "      <td>0.0</td>\n",
       "      <td>...</td>\n",
       "      <td>0.0</td>\n",
       "      <td>0.0</td>\n",
       "      <td>0.0</td>\n",
       "      <td>1.0</td>\n",
       "      <td>0.0</td>\n",
       "      <td>0.0</td>\n",
       "      <td>1.108695</td>\n",
       "      <td>0.425240</td>\n",
       "      <td>-1.224066</td>\n",
       "      <td>-0.077734</td>\n",
       "    </tr>\n",
       "    <tr>\n",
       "      <th>4</th>\n",
       "      <td>0.0</td>\n",
       "      <td>0.0</td>\n",
       "      <td>0.0</td>\n",
       "      <td>1.0</td>\n",
       "      <td>1.0</td>\n",
       "      <td>0.0</td>\n",
       "      <td>0.0</td>\n",
       "      <td>0.0</td>\n",
       "      <td>0.0</td>\n",
       "      <td>0.0</td>\n",
       "      <td>...</td>\n",
       "      <td>0.0</td>\n",
       "      <td>1.0</td>\n",
       "      <td>0.0</td>\n",
       "      <td>0.0</td>\n",
       "      <td>0.0</td>\n",
       "      <td>0.0</td>\n",
       "      <td>-0.794697</td>\n",
       "      <td>1.406658</td>\n",
       "      <td>1.128918</td>\n",
       "      <td>-0.077734</td>\n",
       "    </tr>\n",
       "  </tbody>\n",
       "</table>\n",
       "<p>5 rows × 45 columns</p>\n",
       "</div>"
      ],
      "text/plain": [
       "   workclass_ Self-emp-inc  workclass_ Self-emp-not-inc  workclass_Govern  \\\n",
       "0                      0.0                          0.0               1.0   \n",
       "1                      0.0                          1.0               0.0   \n",
       "2                      0.0                          0.0               0.0   \n",
       "3                      0.0                          0.0               0.0   \n",
       "4                      0.0                          0.0               0.0   \n",
       "\n",
       "   workclass_Private  education_ Bachelors  education_ Doctorate  \\\n",
       "0                0.0                   1.0                   0.0   \n",
       "1                0.0                   1.0                   0.0   \n",
       "2                1.0                   0.0                   0.0   \n",
       "3                1.0                   0.0                   0.0   \n",
       "4                1.0                   1.0                   0.0   \n",
       "\n",
       "   education_ HS-grad  education_ Masters  education_ Prof-school  \\\n",
       "0                 0.0                 0.0                     0.0   \n",
       "1                 0.0                 0.0                     0.0   \n",
       "2                 1.0                 0.0                     0.0   \n",
       "3                 0.0                 0.0                     0.0   \n",
       "4                 0.0                 0.0                     0.0   \n",
       "\n",
       "   education_ Some-college  ...  Continent_Asia  Continent_Central_America  \\\n",
       "0                      0.0  ...             0.0                        0.0   \n",
       "1                      0.0  ...             0.0                        0.0   \n",
       "2                      0.0  ...             0.0                        0.0   \n",
       "3                      0.0  ...             0.0                        0.0   \n",
       "4                      0.0  ...             0.0                        1.0   \n",
       "\n",
       "   Continent_Europe  Continent_North_America  Continent_South_America  \\\n",
       "0               0.0                      1.0                      0.0   \n",
       "1               0.0                      1.0                      0.0   \n",
       "2               0.0                      1.0                      0.0   \n",
       "3               0.0                      1.0                      0.0   \n",
       "4               0.0                      0.0                      0.0   \n",
       "\n",
       "   Continent_nan       age    fnlwgt  education-num  hours-per-week  \n",
       "0            0.0  0.042796 -1.062722       1.128918       -0.077734  \n",
       "1            0.0  0.880288 -1.007871       1.128918       -2.331531  \n",
       "2            0.0 -0.033340  0.244693      -0.439738       -0.077734  \n",
       "3            0.0  1.108695  0.425240      -1.224066       -0.077734  \n",
       "4            0.0 -0.794697  1.406658       1.128918       -0.077734  \n",
       "\n",
       "[5 rows x 45 columns]"
      ]
     },
     "execution_count": 49,
     "metadata": {},
     "output_type": "execute_result"
    }
   ],
   "source": [
    "X1_df = pd.DataFrame(X1)\n",
    "X1_df.columns = enc.get_feature_names(categ_lst)\n",
    "X2_df = pd.DataFrame(X2, columns=numer_lst)\n",
    "X_df = X1_df.join(X2_df)\n",
    "X_df.head()"
   ]
  },
  {
   "cell_type": "markdown",
   "id": "10793a91",
   "metadata": {},
   "source": [
    "##### 3.1.6 - Defining the output variable as y"
   ]
  },
  {
   "cell_type": "code",
   "execution_count": 50,
   "id": "aac5cc99-40d1-41f3-bc65-d2db5c89b5a5",
   "metadata": {},
   "outputs": [
    {
     "data": {
      "text/plain": [
       "array([0, 0, 0, ..., 0, 0, 1], dtype=int64)"
      ]
     },
     "execution_count": 50,
     "metadata": {},
     "output_type": "execute_result"
    }
   ],
   "source": [
    "y = df['income'].to_numpy()\n",
    "y"
   ]
  },
  {
   "cell_type": "code",
   "execution_count": 51,
   "id": "d35d5b86-67d9-4356-8a71-dc66c38e360f",
   "metadata": {},
   "outputs": [
    {
     "data": {
      "text/plain": [
       "(30162, (30162,))"
      ]
     },
     "execution_count": 51,
     "metadata": {},
     "output_type": "execute_result"
    }
   ],
   "source": [
    "len(y), y.shape"
   ]
  },
  {
   "cell_type": "markdown",
   "id": "e1ad93e7",
   "metadata": {},
   "source": [
    "#### 3.2 - Spliting the dataframe in train and test sets"
   ]
  },
  {
   "cell_type": "code",
   "execution_count": 52,
   "id": "e93320d3-8add-4c00-98a1-acf1313d94bf",
   "metadata": {},
   "outputs": [],
   "source": [
    "X_train, X_test, y_train, y_test = train_test_split(X, y, test_size=0.3)"
   ]
  },
  {
   "cell_type": "markdown",
   "id": "9d5817d2",
   "metadata": {},
   "source": [
    "#### 3.3 - Training and testing the Random Forest model with under-sampling and cross-validation\n",
    "Applying Random Forest model with under-sampling to balance the output classification variable, and also with cross-validation to prevent overfitting of the data."
   ]
  },
  {
   "cell_type": "code",
   "execution_count": 53,
   "id": "c788c4e7",
   "metadata": {},
   "outputs": [],
   "source": [
    "under = RandomUnderSampler(replacement=True)\n",
    "X_train_under, y_train_under = under.fit_resample(X_train, y_train)"
   ]
  },
  {
   "cell_type": "code",
   "execution_count": 54,
   "id": "88f79e46",
   "metadata": {},
   "outputs": [
    {
     "data": {
      "text/plain": [
       "array([0.90640457, 0.8836198 , 0.90650961, 0.89908449, 0.90133711,\n",
       "       0.91614703, 0.90938462, 0.89314703, 0.89603927, 0.90010183])"
      ]
     },
     "execution_count": 54,
     "metadata": {},
     "output_type": "execute_result"
    }
   ],
   "source": [
    "rf_model = RandomForestClassifier()\n",
    "cv = KFold(n_splits=10, shuffle=True)\n",
    "rf_auc_cv_under = cross_val_score(rf_model, X_train_under, y_train_under, scoring='roc_auc', cv=cv)\n",
    "rf_auc_cv_under"
   ]
  },
  {
   "cell_type": "markdown",
   "id": "ed60b4d2",
   "metadata": {},
   "source": [
    "#### 3.4 - ROC_AUC result"
   ]
  },
  {
   "cell_type": "code",
   "execution_count": 55,
   "id": "e71a7746",
   "metadata": {},
   "outputs": [
    {
     "data": {
      "text/plain": [
       "0.9011775372888339"
      ]
     },
     "execution_count": 55,
     "metadata": {},
     "output_type": "execute_result"
    }
   ],
   "source": [
    "rf_auc_cv_under.mean()"
   ]
  },
  {
   "cell_type": "markdown",
   "id": "e05c0932",
   "metadata": {},
   "source": [
    "#### 3.5 - Displaying the most important variables\n",
    "According to the Random Forest model, the plot below shows the most important variables"
   ]
  },
  {
   "cell_type": "code",
   "execution_count": 56,
   "id": "62d5097d",
   "metadata": {},
   "outputs": [
    {
     "data": {
      "image/png": "[encoded data removed]",
      "text/plain": [
       "<Figure size 720x576 with 1 Axes>"
      ]
     },
     "metadata": {
      "needs_background": "light"
     },
     "output_type": "display_data"
    }
   ],
   "source": [
    "rf_model = RandomForestClassifier()\n",
    "rf_model.fit(X_train, y_train)\n",
    "importances = rf_model.feature_importances_\n",
    "sorted_indices = np.argsort(importances)[::-1]\n",
    "\n",
    "plt.figure(figsize=(10,8))\n",
    "plt.title('Feature Importance')\n",
    "plt.bar(range(X_df.shape[1]), importances[sorted_indices], align='center')\n",
    "plt.xticks(range(X_df.shape[1]), X_df.columns[sorted_indices], rotation=90)\n",
    "#plt.tight_layout()\n",
    "plt.show()"
   ]
  },
  {
   "cell_type": "markdown",
   "id": "d05e2e66",
   "metadata": {},
   "source": [
    "# "
   ]
  },
  {
   "cell_type": "markdown",
   "id": "ecaf2ab4",
   "metadata": {},
   "source": [
    "### Conclusion\n",
    "The aim of the study was to demonstrate to the reader some of the main techniques involved in Data Science, from the import, processing, and visualization of data, as well as the application of a machine processing model (Random Forest) in the construction of the predictive model in the forecasting of whether income exceeds $50K/yr or not.\n",
    "\n",
    "Regarding the predictive model, also could be applied the most diverse types of hyperparameter configurations in order to make the model as efficient as possible, working iteratively, but which were not used, because of points related to the data processing time for each new model.\n",
    "\n",
    "However, the result of the predictive model, at least in my point of view, proved to be quite satisfactory, with a high level of accuracy, that could be useful in real cases."
   ]
  },
  {
   "cell_type": "markdown",
   "id": "4bc8b0f0",
   "metadata": {},
   "source": [
    "# "
   ]
  }
 ],
 "metadata": {
  "kernelspec": {
   "display_name": "Python 3 (ipykernel)",
   "language": "python",
   "name": "python3"
  },
  "language_info": {
   "codemirror_mode": {
    "name": "ipython",
    "version": 3
   },
   "file_extension": ".py",
   "mimetype": "text/x-python",
   "name": "python",
   "nbconvert_exporter": "python",
   "pygments_lexer": "ipython3",
   "version": "3.7.10"
  }
 },
 "nbformat": 4,
 "nbformat_minor": 5
}
